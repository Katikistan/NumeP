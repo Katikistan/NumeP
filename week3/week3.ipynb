{
 "cells": [
  {
   "cell_type": "markdown",
   "metadata": {},
   "source": [
    "# 5.2 Chemical Reactions"
   ]
  },
  {
   "cell_type": "markdown",
   "metadata": {},
   "source": [
    "## a\n",
    "**Solve and plot the solution to the ODEs with $c_{CO_2} (0) = 1$ and  $c_{H_2CO_3} (0) = 0$ for $t \\in [0, 20]$ using any method you wish and plot $c_{H_2CO_3} (t)$.**"
   ]
  },
  {
   "cell_type": "markdown",
   "metadata": {},
   "source": [
    "## b\n",
    "**Simulate the system five times using the Gillespie algorithm\n",
    "and plot $N_{H_2CO_3} (𝑡)/10000$ in the same plot as $c_{H_2CO_3}(𝑡)$.\n",
    "Use `plt.step(..., where=’post’)` to make the plot.**"
   ]
  },
  {
   "cell_type": "markdown",
   "metadata": {},
   "source": [
    "## c \n",
    "**Make the same the plots for $N = 1000$, $N = 10000$, $N = 100000$,\n",
    "and $N = 1000000$.**"
   ]
  },
  {
   "cell_type": "code",
   "execution_count": null,
   "metadata": {},
   "outputs": [],
   "source": []
  },
  {
   "cell_type": "markdown",
   "metadata": {},
   "source": [
    "# 5.3 Local Voter model"
   ]
  },
  {
   "cell_type": "markdown",
   "metadata": {},
   "source": [
    "## a\n",
    "**Explain what the rates mean. Why are the ‘convincing‘ rates proportional to $D \\cdot R$?**"
   ]
  },
  {
   "cell_type": "markdown",
   "metadata": {},
   "source": [
    "## b\n",
    "**Initialize a system with $R = 25$ and $D = 25$ and simulate the above rate system using the Gillespie method for 500,000 steps.**"
   ]
  },
  {
   "cell_type": "markdown",
   "metadata": {},
   "source": [
    "## c\n",
    "**Plot $R$ and $D$ as a function of time and discuss the result.**"
   ]
  },
  {
   "cell_type": "markdown",
   "metadata": {},
   "source": [
    "## d\n",
    "**Initialize a system with $R = 0$, $U = 50$ and $D = 0$ and simulate the\n",
    "above rate system using the Gillespie method for 500,000 steps**"
   ]
  },
  {
   "cell_type": "markdown",
   "metadata": {},
   "source": [
    "## e\n",
    "**Plot $R$ and $D$ as a function of time and discuss the result.**"
   ]
  },
  {
   "cell_type": "markdown",
   "metadata": {},
   "source": [
    "# 5.5 Ising Model"
   ]
  },
  {
   "cell_type": "markdown",
   "metadata": {},
   "source": [
    "## a\n",
    "**Make a function that takes an $N \\times N$ matrix $S$ and calculates $H$ assuming a periodic system.**"
   ]
  },
  {
   "cell_type": "markdown",
   "metadata": {},
   "source": [
    "## b \n",
    "**Make a function that calculates the change in energy $\\Delta E$ from a spin flip at a given location $i$.**"
   ]
  },
  {
   "cell_type": "markdown",
   "metadata": {},
   "source": [
    "## c\n",
    "**Make a function that randomly accepts or rejects a spin flip based\n",
    "on $\\Delta E$ with probability $\\alpha = min(1, e^{−\\Delta E/𝑇} )$.**"
   ]
  },
  {
   "cell_type": "markdown",
   "metadata": {},
   "source": [
    "## d\n",
    "**Start with a random initialisation of $S$ with $N \\leq 5$ depending on the speed of your code ($N = 1000$ should be possible with numba). Let the system run for $1000 N^2$ time steps to equilibrate the system. Plot the spin configuration `(plt.imshow with interpolation=’nearest’)` at\n",
    "different times during the simulation. Use $T = 0.5$. Comment on the result.**"
   ]
  },
  {
   "cell_type": "markdown",
   "metadata": {},
   "source": [
    "## e\n",
    "**After initialisation let the system evolve another $1000 N^2$ time\n",
    "steps, and store at each 100th time step the energy and the magnetisation. Do this for temperatures between 0.1 and 5.0 and plot the average absolute magnetisation and energy as a function of temperature.**"
   ]
  },
  {
   "cell_type": "markdown",
   "metadata": {},
   "source": [
    "## f\n",
    "**Determine $T_c$ as best you can. What ways could you improve your estimate?**"
   ]
  }
 ],
 "metadata": {
  "language_info": {
   "name": "python"
  }
 },
 "nbformat": 4,
 "nbformat_minor": 2
}
